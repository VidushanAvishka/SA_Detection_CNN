{
 "cells": [
  {
   "cell_type": "code",
   "execution_count": 1,
   "id": "958c7983-0176-46c2-8223-cac8ec815f05",
   "metadata": {},
   "outputs": [],
   "source": [
    "from glob import glob\n",
    "import os\n",
    "import mne\n",
    "import numpy as np\n",
    "import pandas as pd\n",
    "import pickle"
   ]
  },
  {
   "cell_type": "code",
   "execution_count": 2,
   "id": "181b58c1-e2dd-4463-a636-559b7b1fbfc4",
   "metadata": {},
   "outputs": [],
   "source": [
    "all_file_path=glob('../temp_folder/*.edf')\n"
   ]
  },
  {
   "cell_type": "code",
   "execution_count": 3,
   "id": "84b5c916-82e2-434f-921d-6b8e86098971",
   "metadata": {},
   "outputs": [
    {
     "data": {
      "text/plain": [
       "'../temp_folder\\\\slp66.edf'"
      ]
     },
     "execution_count": 3,
     "metadata": {},
     "output_type": "execute_result"
    }
   ],
   "source": [
    "all_file_path[0]"
   ]
  },
  {
   "cell_type": "code",
   "execution_count": 4,
   "id": "6ac5d3d2-7790-44c0-ae81-d9857e58bba9",
   "metadata": {},
   "outputs": [],
   "source": [
    "def read_data(file_path):\n",
    "    datax=mne.io.read_raw_edf(file_path,preload=True)\n",
    "    datax.set_eeg_reference()\n",
    "    datax.filter(l_freq=1,h_freq=45)\n",
    "    epochs=mne.make_fixed_length_epochs(datax,duration=25,overlap=0)\n",
    "    epochs=epochs.get_data()\n",
    "    return epochs #trials,channel,length"
   ]
  },
  {
   "cell_type": "code",
   "execution_count": 5,
   "id": "62e7b123-721e-4bbb-ba08-c0a913a7e4b8",
   "metadata": {},
   "outputs": [],
   "source": [
    "# Iterate through EEG data files and preprocess\n",
    "#for file_path in all_file_path:\n",
    "    #epochs = read_data(file_path)\n",
    "\n",
    "    # Reshape data to match the model's input shape\n",
    "    # Assuming you want to use all available channels\n",
    "    #data_reshaped = epochs.swapaxes(2, 1)  # (trials, channel, length) -> (channel, trials, length)\n",
    "    #data_reshaped = data_reshaped[:, :, :6250]  # Select the first 6250 time steps  "
   ]
  },
  {
   "cell_type": "code",
   "execution_count": 6,
   "id": "51a255e6-6b3f-4991-a84d-170dc4ed324b",
   "metadata": {},
   "outputs": [],
   "source": [
    "#import pickle\n",
    "#with open('../models/cnnmodel.pickle' , 'rb')as f:\n",
    " #model=pickle.load(f)\n",
    "   \n"
   ]
  },
  {
   "cell_type": "code",
   "execution_count": 7,
   "id": "99928ddb-952e-4bc9-a466-7492df87cd56",
   "metadata": {},
   "outputs": [],
   "source": [
    " #result = model.predict(data_reshaped)  "
   ]
  },
  {
   "cell_type": "code",
   "execution_count": 8,
   "id": "ac366d50-de99-4957-890b-a3c9beeab6e7",
   "metadata": {},
   "outputs": [],
   "source": [
    "#result"
   ]
  },
  {
   "cell_type": "code",
   "execution_count": 12,
   "id": "4a075d61-2340-4409-824b-b6bd63f19b93",
   "metadata": {},
   "outputs": [],
   "source": [
    "def function(all_file_path):\n",
    "    for file_path in all_file_path:\n",
    "        epochs = read_data(file_path)\n",
    "\n",
    "    \n",
    "    data_reshaped = epochs.swapaxes(2, 1)  # (trials, channel, length) -> (channel, trials, length)\n",
    "    data_reshaped = data_reshaped[:, :, :6250]  # Select the first 6250 time steps \n",
    "    return data_reshaped\n",
    "    "
   ]
  },
  {
   "cell_type": "code",
   "execution_count": 13,
   "id": "6dc44d31",
   "metadata": {},
   "outputs": [],
   "source": [
    "with open('../models/cnnmodel.pickle' , 'rb')as f:\n",
    "    model=pickle.load(f)"
   ]
  },
  {
   "cell_type": "code",
   "execution_count": 14,
   "id": "8a5484f2",
   "metadata": {},
   "outputs": [
    {
     "ename": "NameError",
     "evalue": "name 'data_reshaped' is not defined",
     "output_type": "error",
     "traceback": [
      "\u001b[1;31m-----------------------------------------------------------------------\u001b[0m",
      "\u001b[1;31mNameError\u001b[0m                             Traceback (most recent call last)",
      "Cell \u001b[1;32mIn[14], line 1\u001b[0m\n\u001b[1;32m----> 1\u001b[0m result \u001b[38;5;241m=\u001b[39m model\u001b[38;5;241m.\u001b[39mpredict(\u001b[43mdata_reshaped\u001b[49m)  \n",
      "\u001b[1;31mNameError\u001b[0m: name 'data_reshaped' is not defined"
     ]
    }
   ],
   "source": [
    "result = model.predict(data_reshaped)  "
   ]
  },
  {
   "cell_type": "code",
   "execution_count": 15,
   "id": "e59342fd",
   "metadata": {},
   "outputs": [
    {
     "ename": "NameError",
     "evalue": "name 'result' is not defined",
     "output_type": "error",
     "traceback": [
      "\u001b[1;31m-----------------------------------------------------------------------\u001b[0m",
      "\u001b[1;31mNameError\u001b[0m                             Traceback (most recent call last)",
      "Cell \u001b[1;32mIn[15], line 1\u001b[0m\n\u001b[1;32m----> 1\u001b[0m \u001b[43mresult\u001b[49m\n",
      "\u001b[1;31mNameError\u001b[0m: name 'result' is not defined"
     ]
    }
   ],
   "source": [
    "result"
   ]
  },
  {
   "cell_type": "code",
   "execution_count": null,
   "id": "50f04d37-d7e9-4649-834d-8af70eb5fe0b",
   "metadata": {},
   "outputs": [],
   "source": []
  }
 ],
 "metadata": {
  "kernelspec": {
   "display_name": "Python 3 (ipykernel)",
   "language": "python",
   "name": "python3"
  },
  "language_info": {
   "codemirror_mode": {
    "name": "ipython",
    "version": 3
   },
   "file_extension": ".py",
   "mimetype": "text/x-python",
   "name": "python",
   "nbconvert_exporter": "python",
   "pygments_lexer": "ipython3",
   "version": "3.10.7"
  }
 },
 "nbformat": 4,
 "nbformat_minor": 5
}
