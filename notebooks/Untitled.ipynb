{
 "cells": [
  {
   "cell_type": "code",
   "execution_count": 1,
   "id": "973e0cd2-bd6d-4c92-9c56-1e801d34d4b8",
   "metadata": {},
   "outputs": [],
   "source": [
    "from glob import glob\n",
    "import os\n",
    "import mne\n",
    "import numpy as np\n",
    "import pandas as pd\n",
    "import pickle"
   ]
  },
  {
   "cell_type": "code",
   "execution_count": 2,
   "id": "4565e85d-ad55-4646-b61c-caccdad2d74e",
   "metadata": {},
   "outputs": [],
   "source": [
    "with open('../models/cnnmodel.pickle' , 'rb')as f:\n",
    " model=pickle.load(f)"
   ]
  },
  {
   "cell_type": "code",
   "execution_count": 3,
   "id": "1dfa4a67-23ca-41fc-b23e-2c9e1f01926e",
   "metadata": {},
   "outputs": [],
   "source": [
    "all_file_path=glob('../temp_folder/*.edf')"
   ]
  },
  {
   "cell_type": "code",
   "execution_count": 4,
   "id": "38f5ef11-b368-44ba-84fd-f2ff70a7a435",
   "metadata": {},
   "outputs": [],
   "source": [
    "file_path=all_file_path[0]"
   ]
  },
  {
   "cell_type": "code",
   "execution_count": 5,
   "id": "fae05daf-7e23-45d6-9af7-6b1f59cc0453",
   "metadata": {},
   "outputs": [],
   "source": [
    "def read_data(file_path_):\n",
    "    datax=mne.io.read_raw_edf(file_path_,preload=True)\n",
    "    datax.set_eeg_reference()\n",
    "    datax.filter(l_freq=1,h_freq=45)\n",
    "    epochs=mne.make_fixed_length_epochs(datax,duration=25,overlap=0)\n",
    "    epochs=epochs.get_data()\n",
    "    return epochs #trials,channel,length"
   ]
  },
  {
   "cell_type": "code",
   "execution_count": 6,
   "id": "40a5f783-e7d7-4bb3-80aa-357f5b8f0b7e",
   "metadata": {},
   "outputs": [],
   "source": [
    "def function(file_path):\n",
    "    epochs = read_data(file_path)\n",
    "    data_reshaped = epochs.swapaxes(2, 1)  # (trials, channel, length) -> (channel, trials, length)\n",
    "    data_reshaped = data_reshaped[:, :, :6250]  # Select the first 6250 time steps  \n",
    "    return data_reshaped\n",
    "    \n",
    "\n",
    "\n"
   ]
  },
  {
   "cell_type": "code",
   "execution_count": 7,
   "id": "eaa235e0-d1d3-4e22-9939-15c4a414082d",
   "metadata": {},
   "outputs": [],
   "source": [
    "def get_prediction(file_path):\n",
    "    data_reshaped = function(file_path)\n",
    "    result = model.predict(data_reshaped)\n",
    "    count_above_0_5 = np.sum(result > 0.5)\n",
    "    total_elements = result.size\n",
    "    if count_above_0_5 / total_elements > 0.5:\n",
    "       output = 1\n",
    "    else:\n",
    "       output = 0\n",
    "    return output\n",
    "    \n"
   ]
  },
  {
   "cell_type": "code",
   "execution_count": 8,
   "id": "da671b91-0e7c-4b31-a572-87da235f3b2b",
   "metadata": {},
   "outputs": [
    {
     "name": "stdout",
     "output_type": "stream",
     "text": [
      "Extracting EDF parameters from D:\\FinalYearProject\\SA_Detection_CNN\\temp_folder\\slp66.edf...\n",
      "EDF file detected\n",
      "Setting channel info structure...\n",
      "Creating raw.info structure...\n",
      "Reading 0 ... 3302499  =      0.000 ... 13209.996 secs...\n",
      "EEG channel type selected for re-referencing\n",
      "Applying average reference.\n",
      "Applying a custom ('EEG',) reference.\n",
      "Filtering raw data in 1 contiguous segment\n",
      "Setting up band-pass filter from 1 - 45 Hz\n",
      "\n",
      "FIR filter parameters\n",
      "---------------------\n",
      "Designing a one-pass, zero-phase, non-causal bandpass filter:\n",
      "- Windowed time-domain design (firwin) method\n",
      "- Hamming window with 0.0194 passband ripple and 53 dB stopband attenuation\n",
      "- Lower passband edge: 1.00\n",
      "- Lower transition bandwidth: 1.00 Hz (-6 dB cutoff frequency: 0.50 Hz)\n",
      "- Upper passband edge: 45.00 Hz\n",
      "- Upper transition bandwidth: 11.25 Hz (-6 dB cutoff frequency: 50.62 Hz)\n",
      "- Filter length: 825 samples (3.300 s)\n",
      "\n",
      "Not setting metadata\n",
      "528 matching events found\n",
      "No baseline correction applied\n",
      "0 projection items activated\n",
      "Using data from preloaded Raw for 528 events and 6250 original time points ...\n",
      "0 bad epochs dropped\n",
      "17/17 [==============================] - 1s 40ms/step\n",
      "Output: 1\n"
     ]
    }
   ],
   "source": [
    "output = get_prediction(file_path)\n",
    "print(\"Output:\", output)"
   ]
  },
  {
   "cell_type": "code",
   "execution_count": null,
   "id": "c19e57c8-8cb7-4bdb-ae32-4bf2e19ee106",
   "metadata": {},
   "outputs": [],
   "source": []
  },
  {
   "cell_type": "code",
   "execution_count": 9,
   "id": "72acc6db-d40c-45ec-8690-a65e17e82c99",
   "metadata": {},
   "outputs": [
    {
     "name": "stdout",
     "output_type": "stream",
     "text": [
      "Extracting EDF parameters from D:\\FinalYearProject\\SA_Detection_CNN\\temp_folder\\slp66.edf...\n",
      "EDF file detected\n",
      "Setting channel info structure...\n",
      "Creating raw.info structure...\n",
      "Reading 0 ... 3302499  =      0.000 ... 13209.996 secs...\n",
      "EEG channel type selected for re-referencing\n",
      "Applying average reference.\n",
      "Applying a custom ('EEG',) reference.\n",
      "Filtering raw data in 1 contiguous segment\n",
      "Setting up band-pass filter from 1 - 45 Hz\n",
      "\n",
      "FIR filter parameters\n",
      "---------------------\n",
      "Designing a one-pass, zero-phase, non-causal bandpass filter:\n",
      "- Windowed time-domain design (firwin) method\n",
      "- Hamming window with 0.0194 passband ripple and 53 dB stopband attenuation\n",
      "- Lower passband edge: 1.00\n",
      "- Lower transition bandwidth: 1.00 Hz (-6 dB cutoff frequency: 0.50 Hz)\n",
      "- Upper passband edge: 45.00 Hz\n",
      "- Upper transition bandwidth: 11.25 Hz (-6 dB cutoff frequency: 50.62 Hz)\n",
      "- Filter length: 825 samples (3.300 s)\n",
      "\n",
      "Not setting metadata\n",
      "528 matching events found\n",
      "No baseline correction applied\n",
      "0 projection items activated\n",
      "Using data from preloaded Raw for 528 events and 6250 original time points ...\n",
      "0 bad epochs dropped\n",
      "17/17 [==============================] - 1s 43ms/step\n"
     ]
    }
   ],
   "source": [
    "data_reshaped = function(file_path)\n",
    "result = model.predict(data_reshaped)  "
   ]
  },
  {
   "cell_type": "code",
   "execution_count": 10,
   "id": "3c264b97-0a44-4b00-abeb-464daa6199c6",
   "metadata": {},
   "outputs": [
    {
     "name": "stdout",
     "output_type": "stream",
     "text": [
      "Output: 1\n"
     ]
    }
   ],
   "source": [
    "# Count the number of elements greater than 0.5\n",
    "count_above_0_5 = np.sum(result > 0.5)\n",
    "\n",
    "# Count the total number of elements\n",
    "total_elements = result.size\n",
    "\n",
    "# Compare and determine the result\n",
    "if count_above_0_5 / total_elements > 0.5:\n",
    "    output = 1\n",
    "else:\n",
    "    output = 0\n",
    "\n",
    "print(\"Output:\", output)"
   ]
  },
  {
   "cell_type": "code",
   "execution_count": null,
   "id": "15107d4c-e011-4482-81d4-cb3b1013e73b",
   "metadata": {},
   "outputs": [],
   "source": []
  }
 ],
 "metadata": {
  "kernelspec": {
   "display_name": "Python 3 (ipykernel)",
   "language": "python",
   "name": "python3"
  },
  "language_info": {
   "codemirror_mode": {
    "name": "ipython",
    "version": 3
   },
   "file_extension": ".py",
   "mimetype": "text/x-python",
   "name": "python",
   "nbconvert_exporter": "python",
   "pygments_lexer": "ipython3",
   "version": "3.10.7"
  }
 },
 "nbformat": 4,
 "nbformat_minor": 5
}
